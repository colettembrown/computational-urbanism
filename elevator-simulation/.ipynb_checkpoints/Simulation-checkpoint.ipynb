{
 "cells": [
  {
   "cell_type": "code",
   "execution_count": 1,
   "metadata": {
    "collapsed": false
   },
   "outputs": [
    {
     "name": "stdout",
     "output_type": "stream",
     "text": [
      "How many passengers does the building have?10\n",
      "How many floors does the building have?5\n",
      "Which strategy do you want to use? (1 for FIFO, 2 for move-to-max-min)2\n",
      "\n",
      "Elevator Snapshot \n",
      "Current Floor:  0 \n",
      "Direction:  1 \n",
      "Destinations:  []\n",
      "\n",
      "Elevator Snapshot \n",
      "Current Floor:  0 \n",
      "Direction:  1 \n",
      "Destinations:  [1, 1]\n",
      "\n",
      "Elevator Snapshot \n",
      "Current Floor:  1 \n",
      "Direction:  1 \n",
      "Destinations:  [1]\n",
      "\n",
      "Elevator Snapshot \n",
      "Current Floor:  2 \n",
      "Direction:  1 \n",
      "Destinations:  [1, 3, 3]\n",
      "\n",
      "Elevator Snapshot \n",
      "Current Floor:  3 \n",
      "Direction:  1 \n",
      "Destinations:  [1, 3, 4, 4]\n",
      "\n",
      "Elevator Snapshot \n",
      "Current Floor:  4 \n",
      "Direction:  -1 \n",
      "Destinations:  [1, 3, 2, 3, 2]\n",
      "\n",
      "Elevator Snapshot \n",
      "Current Floor:  3 \n",
      "Direction:  -1 \n",
      "Destinations:  [1, 2, 2, 2]\n",
      "\n",
      "Elevator Snapshot \n",
      "Current Floor:  2 \n",
      "Direction:  -1 \n",
      "Destinations:  [1, 2]\n",
      "\n",
      "Elevator Snapshot \n",
      "Current Floor:  1 \n",
      "Direction:  1 \n",
      "Destinations:  [2]\n",
      "\n",
      "\n",
      "Average cost:  7.4\n",
      "Average squared cost:  57.4\n",
      "Median cost:  8.0\n",
      "Maximum cost:  10\n"
     ]
    }
   ],
   "source": [
    "import random\n",
    "import numpy as np\n",
    "from elevator import Elevator\n",
    "from passenger import Passenger\n",
    "from building import Building\n",
    "\n",
    "def main():\n",
    "    num_passengers = int(input(\"How many passengers does the building have?\"))\n",
    "    num_floors = int(input(\"How many floors does the building have?\"))\n",
    "    strategy = int(input(\"Which strategy do you want to use? (1 for FIFO, 2 for move-to-max-min)\"))\n",
    "    building = Building(num_passengers, num_floors)\n",
    "    elevator = Elevator(num_floors)\n",
    "    passengers = []\n",
    "    for i in range(num_passengers):\n",
    "        start_floor = random.choice(range(elevator.n_floors))\n",
    "        destination_floor = random.choice(range(elevator.n_floors))\n",
    "        while start_floor == destination_floor:\n",
    "            destination_floor = random.choice(range(elevator.n_floors))\n",
    "        passenger = Passenger(start_floor, destination_floor)\n",
    "        passengers.append(passenger)\n",
    "        elevator.add_call(passenger.start_floor, passenger.destination, passenger)\n",
    "    elevator.snapshot()\n",
    "    if strategy == 1:\n",
    "        for passenger in passengers:\n",
    "            elevator.FIFO()\n",
    "    else:\n",
    "        elevator.max_floor_strategy()\n",
    "    print \"\\n\"\n",
    "    costs = []\n",
    "    for passenger in passengers:\n",
    "        costs.append(passenger.time_cost)\n",
    "\n",
    "    print \"Average cost: \", np.mean(costs)\n",
    "    print \"Average squared cost: \", np.mean([i**2 for i in costs])\n",
    "    print \"Median cost: \", np.median(costs)\n",
    "    print \"Maximum cost: \", max(costs)\n",
    "\n",
    "main()\n"
   ]
  },
  {
   "cell_type": "code",
   "execution_count": null,
   "metadata": {
    "collapsed": true
   },
   "outputs": [],
   "source": []
  }
 ],
 "metadata": {
  "anaconda-cloud": {},
  "kernelspec": {
   "display_name": "Python [Root]",
   "language": "python",
   "name": "Python [Root]"
  },
  "language_info": {
   "codemirror_mode": {
    "name": "ipython",
    "version": 2
   },
   "file_extension": ".py",
   "mimetype": "text/x-python",
   "name": "python",
   "nbconvert_exporter": "python",
   "pygments_lexer": "ipython2",
   "version": "2.7.12"
  }
 },
 "nbformat": 4,
 "nbformat_minor": 2
}
